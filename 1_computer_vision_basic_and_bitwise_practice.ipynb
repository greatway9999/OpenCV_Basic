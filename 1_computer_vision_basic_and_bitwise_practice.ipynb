{
 "cells": [
  {
   "cell_type": "markdown",
   "metadata": {},
   "source": [
    "# 起手式\n",
    "* 載入基本套件\n",
    "* 讀圖 >> 等待按鍵 >> 釋放記憶體\n",
    "* 存圖"
   ]
  },
  {
   "cell_type": "code",
   "execution_count": 1,
   "metadata": {},
   "outputs": [],
   "source": [
    "import numpy as np\n",
    "import cv2\n",
    "img = cv2.imread('Lenna.jpg')\n",
    "cv2.imshow('window', img)\n",
    "cv2.waitKey()\n",
    "\n",
    "cv2.destroyWindow('window') #釋放指定視窗\n",
    "#cv2.destroyAllWindows() #釋放所有視窗"
   ]
  },
  {
   "cell_type": "code",
   "execution_count": 2,
   "metadata": {},
   "outputs": [],
   "source": [
    "new_img = cv2.imwrite('Lenna_write.jpg', img)"
   ]
  },
  {
   "cell_type": "markdown",
   "metadata": {},
   "source": [
    "二值影像：只有黑白兩色，在電腦中以0表示黑色，以1表示白色。\n",
    "灰階影像：通常會有２５６的灰階層級，以0～255表示。\n",
    "彩色影像：有R、G、B三通道，每個通道值的範圍在０～２５５間。在OpenCV中，通道的順序是B、G、R。"
   ]
  },
  {
   "cell_type": "code",
   "execution_count": 3,
   "metadata": {},
   "outputs": [
    {
     "name": "stdout",
     "output_type": "stream",
     "text": [
      "image=\n",
      " [[[255   0   0]\n",
      "  [255   0   0]\n",
      "  [255   0   0]\n",
      "  ...\n",
      "  [  0   0 255]\n",
      "  [  0   0 255]\n",
      "  [  0   0 255]]\n",
      "\n",
      " [[255   0   0]\n",
      "  [255   0   0]\n",
      "  [255   0   0]\n",
      "  ...\n",
      "  [  0   0 255]\n",
      "  [  0   0 255]\n",
      "  [  0   0 255]]\n",
      "\n",
      " [[255   0   0]\n",
      "  [255   0   0]\n",
      "  [255   0   0]\n",
      "  ...\n",
      "  [  0   0 255]\n",
      "  [  0   0 255]\n",
      "  [  0   0 255]]\n",
      "\n",
      " ...\n",
      "\n",
      " [[255   0   0]\n",
      "  [255   0   0]\n",
      "  [255   0   0]\n",
      "  ...\n",
      "  [  0   0 255]\n",
      "  [  0   0 255]\n",
      "  [  0   0 255]]\n",
      "\n",
      " [[255   0   0]\n",
      "  [255   0   0]\n",
      "  [255   0   0]\n",
      "  ...\n",
      "  [  0   0 255]\n",
      "  [  0   0 255]\n",
      "  [  0   0 255]]\n",
      "\n",
      " [[255   0   0]\n",
      "  [255   0   0]\n",
      "  [255   0   0]\n",
      "  ...\n",
      "  [  0   0 255]\n",
      "  [  0   0 255]\n",
      "  [  0   0 255]]]\n"
     ]
    }
   ],
   "source": [
    "image = np.zeros((300, 300, 3), dtype = np.uint8)\n",
    "image[:,0:100,0] = 255\n",
    "image[:, 100:200, 1] = 255\n",
    "image[:, 200:300, 2] = 255\n",
    "print(\"image=\\n\",image)\n",
    "cv2.imshow('image', image)\n",
    "cv2.waitKey()\n",
    "cv2.destroyAllWindows()"
   ]
  },
  {
   "cell_type": "markdown",
   "metadata": {},
   "source": [
    "\n",
    "item() 存取像素值\n",
    "itemset() 修該象素質"
   ]
  },
  {
   "cell_type": "code",
   "execution_count": 4,
   "metadata": {},
   "outputs": [
    {
     "name": "stdout",
     "output_type": "stream",
     "text": [
      "img=\n",
      " [[47 32 88 11 15]\n",
      " [49 25 87 35 70]\n",
      " [23 53 25 98 49]\n",
      " [22 26 53 92 12]\n",
      " [98 93 36 16 42]]\n",
      "讀取像素點 img.item(3,2)= 53\n",
      "修改後img=\n",
      " [[ 47  32  88  11  15]\n",
      " [ 49  25  87  35  70]\n",
      " [ 23  53  25  98  49]\n",
      " [ 22  26 255  92  12]\n",
      " [ 98  93  36  16  42]]\n",
      "修該後像素點 img.item(3,2)= 255\n"
     ]
    }
   ],
   "source": [
    "import numpy as np\n",
    "img = np.random.randint(10, 99, size=[5,5], dtype = np.uint8)\n",
    "print(\"img=\\n\", img)\n",
    "print(\"讀取像素點 img.item(3,2)=\", img.item(3,2))\n",
    "img.itemset((3,2),255)\n",
    "print(\"修改後img=\\n\", img)\n",
    "print(\"修該後像素點 img.item(3,2)=\", img.item(3,2))"
   ]
  },
  {
   "cell_type": "code",
   "execution_count": 5,
   "metadata": {},
   "outputs": [
    {
     "name": "stdout",
     "output_type": "stream",
     "text": [
      "存取img.item(0,0,0)= 125\n",
      "存取img.item(0,0,1)= 137\n",
      "存取img.item(0,0,2)= 225\n",
      "修改後img.item(0,0,0)= 255\n",
      "修改後img.item(0,0,1)= 255\n",
      "修改後img.item(0,0,2)= 255\n"
     ]
    }
   ],
   "source": [
    "img = cv2.imread('Lenna.jpg')\n",
    "cv2.imshow('before', img)\n",
    "print('存取img.item(0,0,0)=', img.item(0,0,0))\n",
    "print('存取img.item(0,0,1)=', img.item(0,0,1))\n",
    "print('存取img.item(0,0,2)=', img.item(0,0,2))\n",
    "\n",
    "for i in range(0, 50):\n",
    "    for j in range(0, 100):\n",
    "        for k in range(0, 3):\n",
    "            img.itemset((i,j,k), 255)\n",
    "cv2.imshow('after', img)\n",
    "print('修改後img.item(0,0,0)=', img.item(0,0,0))\n",
    "print('修改後img.item(0,0,1)=', img.item(0,0,1))\n",
    "print('修改後img.item(0,0,2)=', img.item(0,0,2))\n",
    "            \n",
    "cv2.waitKey()\n",
    "cv2.destroyAllWindows()"
   ]
  },
  {
   "cell_type": "code",
   "execution_count": 6,
   "metadata": {},
   "outputs": [],
   "source": [
    "#通道拆分\n",
    "import numpy as np\n",
    "import cv2\n",
    "img = cv2.imread('Lenna.jpg')\n",
    "cv2.imshow('lena',img)\n",
    "\n",
    "b = img[:,:,0]\n",
    "g = img[:,:,1]\n",
    "r = img[:,:,2]\n",
    "\n",
    "cv2.imshow('b',b)\n",
    "cv2.imshow('g',g)\n",
    "cv2.imshow('r',r)\n",
    "\n",
    "img[:,:,0]=0\n",
    "cv2.imshow('lenab0',img)\n",
    "img[:,:,1]=0\n",
    "cv2.imshow('lenab0g0',img)\n",
    "\n",
    "cv2.waitKey()\n",
    "cv2.destroyAllWindows()\n",
    "\n",
    "\n",
    "#更簡潔的通道拆分函示\n",
    "b, g, r = cv2.split(img)"
   ]
  },
  {
   "cell_type": "code",
   "execution_count": 7,
   "metadata": {},
   "outputs": [],
   "source": [
    "#通道合併\n",
    "import numpy as np\n",
    "import cv2\n",
    "img = cv2.imread('Lenna.jpg')\n",
    "cv2.imshow('lena',img)\n",
    "b,g,r = cv2.split(img)\n",
    "bgr = cv2.merge([b,g,r])\n",
    "rgb = cv2.merge([r,g,b])\n",
    "\n",
    "cv2.imshow('bgr',bgr)\n",
    "cv2.imshow('rgb',rgb)\n",
    "\n",
    "cv2.waitKey()\n",
    "cv2.destroyAllWindows()"
   ]
  },
  {
   "cell_type": "code",
   "execution_count": 8,
   "metadata": {},
   "outputs": [
    {
     "name": "stdout",
     "output_type": "stream",
     "text": [
      "(316, 316, 3)\n",
      "299568\n",
      "uint8\n"
     ]
    }
   ],
   "source": [
    "#檢視影像屬性\n",
    "print(img.shape)\n",
    "print(img.size)\n",
    "print(img.dtype)"
   ]
  },
  {
   "cell_type": "markdown",
   "metadata": {},
   "source": [
    "# 影像運算"
   ]
  },
  {
   "cell_type": "code",
   "execution_count": 9,
   "metadata": {},
   "outputs": [],
   "source": [
    "#情況一 \"+\" 若 a+b > 255，則會取mod\n",
    "\n",
    "#情況二 cv2.add(a,b)  \n",
    "# 若a+b的值大於255，計算結果則為255\n",
    "\n",
    "import numpy as np\n",
    "import cv2\n",
    "a = cv2.imread('Lenna.jpg')\n",
    "cv2.imshow('original',a)\n",
    "\n",
    "b = a\n",
    "result1 = a + b\n",
    "result2 = cv2.add(a, b)\n",
    "cv2.imshow('a+b',result1)\n",
    "cv2.imshow('cv2.add(a, b)',result2)\n",
    "\n",
    "cv2.waitKey()\n",
    "cv2.destroyAllWindows()"
   ]
  },
  {
   "cell_type": "code",
   "execution_count": 10,
   "metadata": {},
   "outputs": [
    {
     "name": "stdout",
     "output_type": "stream",
     "text": [
      "a.shpae= (316, 316, 3)\n",
      "b.shape= (316, 316, 3)\n"
     ]
    }
   ],
   "source": [
    "#位元運算 birwise_and\n",
    "\n",
    "import numpy as np\n",
    "import cv2\n",
    "a = cv2.imread('Lenna.jpg')\n",
    "b = np.zeros(a.shape, dtype=np.uint8)\n",
    "b[50:150, 50:150] = 255\n",
    "b[50:160, 50:60] = 255\n",
    "c = cv2.bitwise_and(a,b)\n",
    "print('a.shpae=', a.shape)\n",
    "print('b.shape=', b.shape)\n",
    "cv2.imshow('original',a)\n",
    "cv2.imshow('mask',b)\n",
    "cv2.imshow('result',c)\n",
    "\n",
    "cv2.waitKey()\n",
    "cv2.destroyAllWindows()"
   ]
  },
  {
   "cell_type": "code",
   "execution_count": 11,
   "metadata": {},
   "outputs": [
    {
     "name": "stdout",
     "output_type": "stream",
     "text": [
      "a.shpae= (316, 316, 3)\n",
      "b.shape= (316, 316, 3)\n"
     ]
    }
   ],
   "source": [
    "#位元運算 birwise_or\n",
    "\n",
    "import numpy as np\n",
    "import cv2\n",
    "a = cv2.imread('Lenna.jpg')\n",
    "b = np.zeros(a.shape, dtype=np.uint8)\n",
    "b[50:150, 50:150] = 255 #任何數值與255運算會得到數值本身，因此透過此設定保留我們要的區域。\n",
    "b[50:160, 50:60] = 255\n",
    "c = cv2.bitwise_or(a,b)\n",
    "print('a.shpae=', a.shape)\n",
    "print('b.shape=', b.shape)\n",
    "cv2.imshow('original',a)\n",
    "cv2.imshow('mask',b)\n",
    "cv2.imshow('result',c)\n",
    "\n",
    "cv2.waitKey()\n",
    "cv2.destroyAllWindows()"
   ]
  },
  {
   "cell_type": "code",
   "execution_count": 12,
   "metadata": {},
   "outputs": [
    {
     "name": "stdout",
     "output_type": "stream",
     "text": [
      "a.shpae= (316, 316, 3)\n"
     ]
    }
   ],
   "source": [
    "#位元運算 birwise_not\n",
    "\n",
    "import numpy as np\n",
    "import cv2\n",
    "a = cv2.imread('Lenna.jpg')\n",
    "c = cv2.bitwise_not(a)\n",
    "print('a.shpae=', a.shape)\n",
    "cv2.imshow('original',a)\n",
    "cv2.imshow('result',c)\n",
    "\n",
    "cv2.waitKey()\n",
    "cv2.destroyAllWindows()"
   ]
  },
  {
   "cell_type": "code",
   "execution_count": 13,
   "metadata": {},
   "outputs": [
    {
     "name": "stdout",
     "output_type": "stream",
     "text": [
      "a.shpae= (316, 316, 3)\n",
      "b.shape= (316, 316, 3)\n"
     ]
    }
   ],
   "source": [
    "#位元運算 birwise_xor\n",
    "\n",
    "import numpy as np\n",
    "import cv2\n",
    "a = cv2.imread('Lenna.jpg')\n",
    "b = np.zeros(a.shape, dtype=np.uint8)\n",
    "b[50:150, 50:150] = 255\n",
    "b[50:160, 50:60] = 255\n",
    "c = cv2.bitwise_xor(a, b)\n",
    "print('a.shpae=', a.shape)\n",
    "print('b.shape=', b.shape)\n",
    "cv2.imshow('original',a)\n",
    "cv2.imshow('mask',b)\n",
    "cv2.imshow('result',c)\n",
    " \n",
    "cv2.waitKey()\n",
    "cv2.destroyAllWindows()"
   ]
  },
  {
   "cell_type": "code",
   "execution_count": 14,
   "metadata": {},
   "outputs": [],
   "source": [
    "#位元平面分解\n",
    "\n",
    "import numpy as np\n",
    "import cv2\n",
    "\n",
    "img = cv2.imread('Lenna.jpg', cv2.IMREAD_GRAYSCALE)\n",
    "cv2.imshow('Lenna', img)\n",
    "\n",
    "# Step1.獲取影像資訊\n",
    "r, c = img.shape #顯示影像列寬*行高\n",
    "\n",
    "# Step2.建立分析矩陣\n",
    "x = np.zeros((r, c, 8), dtype=np.uint8) #建立一個位元分析矩陣，大小為 r*c*8。8表示分析灰階影像的第8個位元平面。\n",
    "for i in range(8):  #設定用於分析各個位元平面的分析矩陣之值\n",
    "    x[:,:,i] = 2 ** i\n",
    "    #print(x)\n",
    "\n",
    "#Step3. 分析位元平面\n",
    "bitplane = np.zeros((r, c, 8), dtype=np.uint8) \n",
    "for i in range(8): #進行各位元平面分析\n",
    "    bitplane[:,:,i] = cv2.bitwise_and(img, x[:,:,i])    \n",
    "    mask = bitplane[:,:,i]>0 #將位元平面中大於0的值設為True，小於0的值設為False\n",
    "# Step4.設定值處理    \n",
    "    bitplane[mask] = 255 #讓二值化影像可以清楚黑白顯示\n",
    "    cv2.imshow(str(i), bitplane[:,:,i])  #顯示各位元影像\n",
    " \n",
    "cv2.waitKey()\n",
    "cv2.destroyAllWindows()"
   ]
  },
  {
   "cell_type": "code",
   "execution_count": 15,
   "metadata": {},
   "outputs": [],
   "source": [
    "#影像加密與解密\n",
    "import numpy as np\n",
    "import cv2\n",
    "\n",
    "img = cv2.imread('Lenna.jpg', cv2.IMREAD_GRAYSCALE)\n",
    "cv2.imshow('Lenna', img)\n",
    "r, c = img.shape #顯示影像列寬*行高\n",
    "\n",
    "key = np.random.randint(0, 256, size=(r, c), dtype = np.uint8)\n",
    "encryption = cv2.bitwise_xor(img, key)\n",
    "decryption = cv2.bitwise_xor(encryption, key)\n",
    "\n",
    "cv2.imshow('key', key)\n",
    "cv2.imshow('encryption', encryption)\n",
    "cv2.imshow('decryption', decryption)\n",
    "\n",
    "cv2.waitKey()\n",
    "cv2.destroyAllWindows()"
   ]
  },
  {
   "cell_type": "code",
   "execution_count": 16,
   "metadata": {},
   "outputs": [
    {
     "name": "stdout",
     "output_type": "stream",
     "text": [
      "img.shpae= (316, 316)\n",
      "mask.shape= (316, 316)\n"
     ]
    }
   ],
   "source": [
    "#針對ROI區域加密\n",
    "import numpy as np\n",
    "import cv2\n",
    "\n",
    "img = cv2.imread('Lenna.jpg', cv2.IMREAD_GRAYSCALE) #以灰階的方式顯示圖片\n",
    "r, c = img.shape #顯示影像列寬*行高\n",
    "\n",
    "#建立遮罩\n",
    "mask = np.zeros(img.shape, dtype=np.uint8) #建立一個和原圖大小相同的遮罩\n",
    "mask[150:180, 150:180] = 1 #在遮罩範圍中，設定ROI為1，其餘區域為0\n",
    "\n",
    "#建立加密與解密用之金鑰\n",
    "key = np.random.randint(0, 256, size=(r, c), dtype = np.uint8) #建立一個和原圖大小相同的金鑰，每個像素值介於0~256\n",
    " \n",
    "#各種情況的加密\n",
    "encrypt_img = cv2.bitwise_xor(img, key) #對原始影像加密\n",
    "encrypt_ROI = cv2.bitwise_and(encrypt_img, mask*255) #取加密後的ROI\n",
    "\n",
    "bg = cv2.bitwise_or(img, mask*255) #取mask外的背景。任何數值與255運算會得到數值本身，因此透過此設定保留我們要的區域。\n",
    "#bg = cv2.bitwise_and(img, (1-mask)*255) #另一種取背景的方法\n",
    "\n",
    "encrypt_ROI_img = encrypt_ROI + bg #將加密的區域與背景相加\n",
    "\n",
    "print('img.shpae=', img.shape) #顯示原圖列寬和行高\n",
    "print('mask.shape=', mask.shape) #顯示遮罩列寬和行高\n",
    "cv2.imshow('original',img) #顯示原圖\n",
    "cv2.imshow('mask',mask) #顯示遮罩\n",
    "cv2.imshow('encrypt_img', encrypt_img) #顯示加密後的原圖\n",
    "cv2.imshow('encrypt_ROI', encrypt_ROI) #顯示加密後的原圖ROI\n",
    "cv2.imshow('bg', bg) #顯示ROI外的圖\n",
    "cv2.imshow('encrypt_ROI_img', encrypt_ROI_img) #顯示整張圖片與加密的ROI區域\n",
    "\n",
    "cv2.waitKey()\n",
    "cv2.destroyAllWindows()"
   ]
  },
  {
   "cell_type": "code",
   "execution_count": null,
   "metadata": {},
   "outputs": [],
   "source": []
  }
 ],
 "metadata": {
  "kernelspec": {
   "display_name": "Python 3",
   "language": "python",
   "name": "python3"
  },
  "language_info": {
   "codemirror_mode": {
    "name": "ipython",
    "version": 3
   },
   "file_extension": ".py",
   "mimetype": "text/x-python",
   "name": "python",
   "nbconvert_exporter": "python",
   "pygments_lexer": "ipython3",
   "version": "3.7.5"
  }
 },
 "nbformat": 4,
 "nbformat_minor": 2
}
