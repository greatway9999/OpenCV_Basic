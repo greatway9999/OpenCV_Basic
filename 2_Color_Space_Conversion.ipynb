{
 "cells": [
  {
   "cell_type": "code",
   "execution_count": 1,
   "metadata": {},
   "outputs": [],
   "source": [
    "# BGR to RGB\n",
    "import numpy as np\n",
    "import cv2\n",
    "\n",
    "img = cv2.imread('Lenna.jpg')\n",
    "rgb_img = cv2.cvtColor(img, cv2.COLOR_BGR2RGB)\n",
    "\n",
    "cv2.imshow('BGR', img)\n",
    "cv2.imshow('RGB', rgb_img)\n",
    "\n",
    "cv2.waitKey()\n",
    "cv2.destroyAllWindows()"
   ]
  },
  {
   "cell_type": "code",
   "execution_count": 2,
   "metadata": {},
   "outputs": [
    {
     "name": "stdout",
     "output_type": "stream",
     "text": [
      "[[  0   0   0 ...   0   0   0]\n",
      " [  0   0   0 ...   0   0   0]\n",
      " [  0   0   0 ...   0   0   0]\n",
      " ...\n",
      " [255 255 255 ... 255 255 255]\n",
      " [255 255 255 ... 255   0   0]\n",
      " [255 255 255 ...   0   0   0]]\n"
     ]
    }
   ],
   "source": [
    "#篩選指定像素範圍\n",
    "import numpy as np\n",
    "import cv2\n",
    "\n",
    "img = cv2.imread('Lenna.jpg', cv2.IMREAD_GRAYSCALE)\n",
    "filter_img = cv2.inRange(img, 0, 100)\n",
    "\n",
    "cv2.imshow('original', img)\n",
    "cv2.imshow('filter_img', filter_img)\n",
    "\n",
    "print(filter_img)\n",
    "\n",
    "cv2.waitKey()\n",
    "cv2.destroyAllWindows()"
   ]
  },
  {
   "cell_type": "code",
   "execution_count": 3,
   "metadata": {},
   "outputs": [],
   "source": [
    "#擷取指定顏色\n",
    "import numpy as np\n",
    "import cv2\n",
    "\n",
    "img = cv2.imread('Lenna.jpg')\n",
    "img_hsv = cv2.cvtColor(img, cv2.COLOR_BGR2HSV)\n",
    "h, s, v = cv2.split(img_hsv)\n",
    "minHue = 5\n",
    "maxHue = 170\n",
    "hus_mask = cv2.inRange(h, minHue, maxHue)\n",
    "\n",
    "minSat = 25\n",
    "maxSat = 166\n",
    "sat_mask = cv2.inRange(s, minSat, maxSat)\n",
    "\n",
    "mask = hus_mask & sat_mask\n",
    "\n",
    "ROI_img = cv2.bitwise_and(img, img, mask=mask)\n",
    "\n",
    "cv2.imshow('original', img)\n",
    "cv2.imshow(\"ROI_img\",ROI_img)\n",
    "\n",
    "cv2.waitKey()\n",
    "cv2.destroyAllWindows()"
   ]
  },
  {
   "cell_type": "code",
   "execution_count": 20,
   "metadata": {},
   "outputs": [],
   "source": [
    "#藝術效果\n",
    "import numpy as np\n",
    "import cv2\n",
    "\n",
    "img = cv2.imread('Lenna.jpg')\n",
    "img_hsv = cv2.cvtColor(img, cv2.COLOR_BGR2HSV)\n",
    "h, s, v = cv2.split(img_hsv)\n",
    "v[:,:]=255\n",
    "new_hsv = cv2.merge([h,s,v])\n",
    "art_img = cv2.cvtColor(new_hsv, cv2.COLOR_HSV2BGR)\n",
    "\n",
    "cv2.imshow('original', img)\n",
    "cv2.imshow('art_img', art_img)\n",
    "\n",
    "cv2.waitKey()\n",
    "cv2.destroyAllWindows()"
   ]
  },
  {
   "cell_type": "code",
   "execution_count": 4,
   "metadata": {},
   "outputs": [],
   "source": [
    "#對影像的alpha通道進行處理\n",
    "#alpha通道表示透明度，值從0~255。\n",
    "import numpy as np\n",
    "import cv2\n",
    "\n",
    "img = cv2.imread('Lenna.jpg')\n",
    "bgra_img = cv2.cvtColor(img, cv2.COLOR_BGR2BGRA)\n",
    "b, g, r, a = cv2.split(bgra_img)\n",
    "a[:,:] = 125\n",
    "bgra_img_125 = cv2.merge([b, g, r, a])\n",
    "\n",
    "a[:,:] = 0\n",
    "bgra_img_0 = cv2.merge([b, g, r, a])\n",
    "\n",
    "cv2.imshow('original', img)\n",
    "cv2.imshow('bgra_img', bgra_img)\n",
    "cv2.imshow('bgra_img_125', bgra_img_125)\n",
    "cv2.imshow('bgra_img_0', bgra_img_0)\n",
    "\n",
    "cv2.imwrite('bgra_img.png', bgra_img)\n",
    "cv2.imwrite('bgra_img_125.png', bgra_img_125)\n",
    "cv2.imwrite('bgra_img_0.png', bgra_img_0)\n",
    "\n",
    "cv2.waitKey()\n",
    "cv2.destroyAllWindows()"
   ]
  },
  {
   "cell_type": "code",
   "execution_count": null,
   "metadata": {},
   "outputs": [],
   "source": []
  }
 ],
 "metadata": {
  "kernelspec": {
   "display_name": "Python 3",
   "language": "python",
   "name": "python3"
  },
  "language_info": {
   "codemirror_mode": {
    "name": "ipython",
    "version": 3
   },
   "file_extension": ".py",
   "mimetype": "text/x-python",
   "name": "python",
   "nbconvert_exporter": "python",
   "pygments_lexer": "ipython3",
   "version": "3.7.5"
  }
 },
 "nbformat": 4,
 "nbformat_minor": 2
}
